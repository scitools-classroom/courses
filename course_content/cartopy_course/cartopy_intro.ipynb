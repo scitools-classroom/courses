{
 "cells": [
  {
   "cell_type": "code",
   "execution_count": null,
   "metadata": {},
   "outputs": [],
   "source": [
    "%matplotlib inline"
   ]
  },
  {
   "cell_type": "markdown",
   "metadata": {},
   "source": [
    "# A First Look at Cartopy (for Iris)\n",
    "\n",
    "## Course aims and objectives\n",
    "\n",
    "The **aim** of the cartopy course is to introduce the cartopy library and highlight of some of its features.\n",
    "\n",
    "The **learning outcomes** of the cartopy course are as follows. By the end of the course, you will be able to:\n",
    "\n",
    "* understand the functionality provided by the `cartopy.crs` module,\n",
    "* explain the purpose and usage of the `projection` and `transform` keyword arguments, and\n",
    "* add geolocated data, grid lines and Natural Earth features to a cartopy map."
   ]
  },
  {
   "cell_type": "markdown",
   "metadata": {},
   "source": [
    "## Introduction: maps and projections\n",
    "\n",
    "Cartopy is a Python package that provides easy creation of maps, using matplotlib, for the analysis and visualisation of geospatial data."
   ]
  },
  {
   "cell_type": "markdown",
   "metadata": {},
   "source": [
    "In order to create a map with cartopy and matplotlib, we typically need to import pyplot from matplotlib and cartopy's crs (coordinate reference system) submodule. These are typically imported as follows:"
   ]
  },
  {
   "cell_type": "code",
   "execution_count": null,
   "metadata": {},
   "outputs": [],
   "source": [
    "import matplotlib.pyplot as plt\n",
    "import cartopy.crs as ccrs"
   ]
  },
  {
   "cell_type": "markdown",
   "metadata": {},
   "source": [
    "Cartopy's matplotlib interface is set up via the **`projection`** keyword when constructing a matplotlib `Axes` / `SubAxes` instance. The resulting axes instance has new methods, such as the **``coastlines()``** method, which are specific to drawing cartographic data:"
   ]
  },
  {
   "cell_type": "code",
   "execution_count": null,
   "metadata": {},
   "outputs": [],
   "source": [
    "ax = plt.axes(projection=ccrs.PlateCarree())\n",
    "ax.coastlines()\n",
    "plt.show()"
   ]
  },
  {
   "cell_type": "markdown",
   "metadata": {},
   "source": [
    "A full list of Cartopy projections is available at http://scitools.org.uk/cartopy/docs/latest/crs/projections.html."
   ]
  },
  {
   "cell_type": "markdown",
   "metadata": {},
   "source": [
    "<div class=\"alert alert-block alert-warning\">\n",
    "    <b><font color='brown'>Suggested Activity :</font></b> Try modifying the above code to plot a different projection.\n",
    "</div>"
   ]
  },
  {
   "cell_type": "code",
   "execution_count": null,
   "metadata": {},
   "outputs": [],
   "source": [
    "#\n",
    "# EDIT for user code ...\n",
    "#"
   ]
  },
  {
   "cell_type": "markdown",
   "metadata": {},
   "source": [
    "<b><font color=\"brown\">SAMPLE SOLUTION:</font></b>  \n",
    "Un-comment and execute the following, to view a possible code solution.  \n",
    "Then run it ..."
   ]
  },
  {
   "cell_type": "code",
   "execution_count": null,
   "metadata": {},
   "outputs": [],
   "source": [
    "# %load solutions/cartopy_exercise_1"
   ]
  },
  {
   "cell_type": "markdown",
   "metadata": {},
   "source": [
    "Let's compare the Plate Carree projection to another projection from the projection list; being the Orthographic projection. We'll do that by plotting two subplots next to each other at the same time:"
   ]
  },
  {
   "cell_type": "code",
   "execution_count": null,
   "metadata": {},
   "outputs": [],
   "source": [
    "# Make sure the figure is a decent size when plotted.\n",
    "fig = plt.figure(figsize=(14, 7))\n",
    "\n",
    "# Left plot.\n",
    "ax1 = fig.add_subplot(1, 2, 1, projection=ccrs.PlateCarree())\n",
    "ax1.coastlines()\n",
    "\n",
    "# Right plot.\n",
    "ax2 = fig.add_subplot(1, 2, 2, projection=ccrs.Orthographic())\n",
    "ax2.coastlines()\n",
    "\n",
    "# Show both subplots on the same figure.\n",
    "plt.show()"
   ]
  },
  {
   "cell_type": "markdown",
   "metadata": {},
   "source": [
    "## Transforming data\n",
    "\n",
    "To draw cartographic data, we use the standard matplotlib plotting routines with an additional **`transform`** keyword argument. The value of the `transform` argument should be the cartopy coordinate reference system *of the data being plotted*.\n",
    "\n",
    "First let's plot a line on a PlateCarree projection."
   ]
  },
  {
   "cell_type": "code",
   "execution_count": null,
   "metadata": {},
   "outputs": [],
   "source": [
    "ax = plt.axes(projection=ccrs.PlateCarree())\n",
    "ax.coastlines()\n",
    "x0, y0 = -50, -30\n",
    "x1, y1 = 10, 55\n",
    "plt.plot([x0, x1], [y0, y1], linewidth=4)\n",
    "plt.show()"
   ]
  },
  {
   "cell_type": "markdown",
   "metadata": {},
   "source": [
    "Now let's try plotting the same line on an `EquidistantConic` projection."
   ]
  },
  {
   "cell_type": "code",
   "execution_count": null,
   "metadata": {},
   "outputs": [],
   "source": [
    "proj = ccrs.EquidistantConic()\n",
    "\n",
    "ax = plt.axes(projection=proj)\n",
    "ax.coastlines()\n",
    "plt.plot([x0, x1], [y0, y1], linewidth=4)\n",
    "plt.show()"
   ]
  },
  {
   "cell_type": "markdown",
   "metadata": {},
   "source": [
    "The above plot is ***not*** what we intended.  \n",
    "We have set up the axes to be in the Equidistant Conic projection, but we have not told Cartopy that the coordinates of the line are \"in PlateCarree\".  \n",
    "To do this, we use the `transform` keyword in the plt.plot function :\n"
   ]
  },
  {
   "cell_type": "code",
   "execution_count": null,
   "metadata": {},
   "outputs": [],
   "source": [
    "ax = plt.axes(projection=proj)\n",
    "ax.coastlines()\n",
    "plt.plot([x0, x1], [y0, y1], linewidth=4, transform=ccrs.PlateCarree())\n",
    "plt.show()"
   ]
  },
  {
   "cell_type": "markdown",
   "metadata": {},
   "source": [
    "Notice that the plotted line is bent :  It is a straight line ***in the coordinate system it is defined in***, so that makes it a curved line on this map.\n",
    "\n",
    "Also note that, unless we specify a map extent, the map zooms to contain just the plotted data.  \n",
    "A very simple alternative to that is to plot the 'full map', by calling the **``set_global``** method on the Axes, as in this case :"
   ]
  },
  {
   "cell_type": "code",
   "execution_count": null,
   "metadata": {},
   "outputs": [],
   "source": [
    "ax = plt.axes(projection=proj)\n",
    "ax.coastlines()\n",
    "ax.set_global()\n",
    "plt.plot([x0, x1], [y0, y1], linewidth=4, transform=ccrs.PlateCarree())\n",
    "plt.show()"
   ]
  },
  {
   "cell_type": "markdown",
   "metadata": {},
   "source": [
    "<div class=\"alert alert-block alert-warning\">\n",
    "    <b><font color='brown'>Suggested Activity :</font></b> Try re-plotting the \"failed plot\" above, but adding a \"set_global\" call to show the full map extent.\n",
    "\n",
    "What does this tell you about what was actually being plotted in that case ?\n",
    "</div>"
   ]
  },
  {
   "cell_type": "code",
   "execution_count": null,
   "metadata": {},
   "outputs": [],
   "source": [
    "#\n",
    "# edit space for user code ...\n",
    "#"
   ]
  },
  {
   "cell_type": "code",
   "execution_count": null,
   "metadata": {},
   "outputs": [],
   "source": [
    "# SAMPLE SOLUTION\n",
    "# %load solutions/cartopy_exercise_2"
   ]
  },
  {
   "cell_type": "markdown",
   "metadata": {},
   "source": [
    "<div class=\"alert alert-block alert-warning\">\n",
    "    <b><font color='brown'>Suggested Activity :</font></b> Try taking more control of the plot region,  \n",
    "using the <a href=\"https://scitools.org.uk/cartopy/docs/latest/matplotlib/geoaxes.html?highlight=set_extent#cartopy.mpl.geoaxes.GeoAxes.set_extent\"> Geoaxes.set_extents</a> method. <br>\n",
    "( look this up ! )\n",
    "\n",
    "What is the _coordinate system_ of the coordinate values which you pass into this method ?\n",
    "</div>"
   ]
  },
  {
   "cell_type": "code",
   "execution_count": null,
   "metadata": {},
   "outputs": [],
   "source": [
    "#\n",
    "# edit space for user code ...\n",
    "#"
   ]
  },
  {
   "cell_type": "code",
   "execution_count": null,
   "metadata": {},
   "outputs": [],
   "source": [
    "# SAMPLE SOLUTION\n",
    "# %load solutions/cartopy_exercise_3"
   ]
  },
  {
   "cell_type": "markdown",
   "metadata": {},
   "source": [
    "## Adding features\n",
    "\n",
    "We can add features from the [Natural Earth](http://www.naturalearthdata.com/) database to maps we produce. Natural Earth datasets are downloaded and cached when they are first used, so you need an internet connection to use them, and you may encounter warnings when you first download them.\n",
    "\n",
    "We add features to maps via the [cartopy feature interface](http://scitools.org.uk/cartopy/docs/latest/matplotlib/feature_interface.html).\n",
    "\n",
    "For example, let's add political borders to a map:"
   ]
  },
  {
   "cell_type": "code",
   "execution_count": null,
   "metadata": {},
   "outputs": [],
   "source": [
    "import cartopy.feature as cfeat\n",
    "\n",
    "fig = plt.figure(figsize=(14, 7))\n",
    "\n",
    "ax = plt.axes(projection=ccrs.Miller())\n",
    "ax.coastlines('50m')\n",
    "\n",
    "# ax.add_feature(cfeat.BORDERS, edgecolor='b')\n",
    "\n",
    "political_bdrys = cfeat.NaturalEarthFeature(category='cultural',\n",
    "                                            name='admin_0_countries',\n",
    "                                            scale='50m')\n",
    "ax.add_feature(political_bdrys,\n",
    "               edgecolor='b', facecolor='none',\n",
    "               linestyle='--', zorder=-1)\n",
    "\n",
    "plt.show()"
   ]
  },
  {
   "cell_type": "markdown",
   "metadata": {},
   "source": [
    "We can add graticule lines and tick labels to the map using the gridlines method (this currently is limited to just a few coordinate reference systems):"
   ]
  },
  {
   "cell_type": "code",
   "execution_count": null,
   "metadata": {},
   "outputs": [],
   "source": [
    "ax = plt.axes(projection=ccrs.Mercator())\n",
    "ax.coastlines()\n",
    "gl = ax.gridlines(draw_labels=True)\n",
    "plt.show()"
   ]
  },
  {
   "cell_type": "markdown",
   "metadata": {},
   "source": [
    "We can control the specific tick values by using matplotlib's locator object, and the formatting can be controlled with matplotlib formatters:"
   ]
  },
  {
   "cell_type": "code",
   "execution_count": null,
   "metadata": {},
   "outputs": [],
   "source": [
    "import matplotlib.ticker as mticker\n",
    "from cartopy.mpl.gridliner import LATITUDE_FORMATTER\n",
    "\n",
    "ax = plt.axes(projection=ccrs.PlateCarree())\n",
    "ax.coastlines()\n",
    "gl = ax.gridlines(draw_labels=True)\n",
    "\n",
    "gl.xlocator = mticker.FixedLocator([-180, -45, 0, 45, 180])\n",
    "gl.yformatter = LATITUDE_FORMATTER\n",
    "\n",
    "plt.show()"
   ]
  },
  {
   "cell_type": "markdown",
   "metadata": {},
   "source": [
    "Cartopy cannot currently label all types of projection, though more work is intended on this functionality in the future."
   ]
  },
  {
   "cell_type": "markdown",
   "metadata": {},
   "source": [
    "## Exercise\n",
    "\n",
    "The following snippet of code produces coordinate arrays and some data in a rotated pole coordinate system. The coordinate system for the `x` and `y` values, which is similar to that found in the some limited area models of Europe, has a projection \"north pole\" at 193.0 degrees longitude and 41.0 degrees latitude."
   ]
  },
  {
   "cell_type": "code",
   "execution_count": null,
   "metadata": {},
   "outputs": [],
   "source": [
    "import numpy as np\n",
    "import matplotlib.pyplot as plt\n",
    "import cartopy.crs as ccrs\n",
    "\n",
    "x = np.linspace(337, 377, 25)\n",
    "y = np.linspace(-18.7, 25.3, 35)\n",
    "x2d, y2d = np.meshgrid(x, y)\n",
    "\n",
    "data = np.cos(np.deg2rad(y2d) * 4) + np.sin(np.deg2rad(x2d) * 4)"
   ]
  },
  {
   "cell_type": "markdown",
   "metadata": {},
   "source": [
    "**Part 1**\n",
    "\n",
    "Define a cartopy coordinate reference system which represents a rotated pole with a pole latitude of 41.0 and a pole longitude of 193.0."
   ]
  },
  {
   "cell_type": "code",
   "execution_count": null,
   "metadata": {},
   "outputs": [],
   "source": []
  },
  {
   "cell_type": "markdown",
   "metadata": {},
   "source": [
    "**Part 2**\n",
    "\n",
    "Produce a map, with coastlines, using the coordinate reference system created in Part 1."
   ]
  },
  {
   "cell_type": "code",
   "execution_count": null,
   "metadata": {},
   "outputs": [],
   "source": []
  },
  {
   "cell_type": "markdown",
   "metadata": {},
   "source": [
    "**Part 3**\n",
    "\n",
    "Produce a map, with coastlines, in a Plate Carree projection with a pcolormesh of the data generated by the code snippet provided at the beginning of the exercise. Remember that the data is supplied in the rotated coordinate system defined in Part 1."
   ]
  },
  {
   "cell_type": "code",
   "execution_count": null,
   "metadata": {},
   "outputs": [],
   "source": []
  },
  {
   "cell_type": "markdown",
   "metadata": {
    "collapsed": true
   },
   "source": [
    "**NOTE:**\n",
    "\n",
    "For a worked solution, see [this example notebook](solutions/cartopy_final_exercise.ipynb)\n"
   ]
  },
  {
   "cell_type": "code",
   "execution_count": null,
   "metadata": {},
   "outputs": [],
   "source": []
  }
 ],
 "metadata": {
  "kernelspec": {
   "display_name": "Python 3",
   "language": "python",
   "name": "python3"
  },
  "language_info": {
   "codemirror_mode": {
    "name": "ipython",
    "version": 3
   },
   "file_extension": ".py",
   "mimetype": "text/x-python",
   "name": "python",
   "nbconvert_exporter": "python",
   "pygments_lexer": "ipython3",
   "version": "3.6.8"
  }
 },
 "nbformat": 4,
 "nbformat_minor": 2
}
