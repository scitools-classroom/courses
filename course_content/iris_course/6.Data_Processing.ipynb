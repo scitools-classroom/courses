{
 "cells": [
  {
   "cell_type": "code",
   "execution_count": null,
   "metadata": {},
   "outputs": [],
   "source": [
    "%matplotlib inline"
   ]
  },
  {
   "cell_type": "markdown",
   "metadata": {},
   "source": [
    "## Iris introduction course\n",
    "# 6. Data Processing\n",
    "\n",
    "**Learning Outcome**: by the end of this section, you will be able to apply arithmetic and statistical operations on a Cube.\n",
    "\n",
    "**Duration:** 1 hour\n",
    "\n",
    "**Overview:**<br>\n",
    "6.1 [Cube Arithmetic](#arithmetic)<br>\n",
    "6.2 [Aggregation and Statistics](#agg_and_stats)<br>\n",
    "6.3 [Exercise](#exercise)<br>\n",
    "6.4 [Summary of the Section](#summary)"
   ]
  },
  {
   "cell_type": "markdown",
   "metadata": {},
   "source": [
    "## Setup"
   ]
  },
  {
   "cell_type": "code",
   "execution_count": null,
   "metadata": {},
   "outputs": [],
   "source": [
    "import iris\n",
    "import numpy as np"
   ]
  },
  {
   "cell_type": "markdown",
   "metadata": {},
   "source": [
    "## 6.1 Cube Arithmetic<a id='arithmetic'></a>\n",
    "\n",
    "Basic mathematical operators exist on the cube to allow one to add, subtract, divide, multiply and perform other mathematical operations on cubes of a similar shape to one another:"
   ]
  },
  {
   "cell_type": "code",
   "execution_count": null,
   "metadata": {},
   "outputs": [],
   "source": [
    "a1b = iris.load_cube(iris.sample_data_path('A1B_north_america.nc'))\n",
    "e1 = iris.load_cube(iris.sample_data_path('E1_north_america.nc'))\n",
    "\n",
    "print(e1.summary(True))\n",
    "print(a1b)"
   ]
  },
  {
   "cell_type": "code",
   "execution_count": null,
   "metadata": {},
   "outputs": [],
   "source": [
    "scenario_difference = a1b - e1\n",
    "print(scenario_difference)"
   ]
  },
  {
   "cell_type": "markdown",
   "metadata": {},
   "source": [
    "Notice that the resultant cube's name is now `unknown`.  Also, the resultant cube's `attributes` and `cell_methods` have disappeared; this is because these were different between the two input cubes."
   ]
  },
  {
   "cell_type": "markdown",
   "metadata": {},
   "source": [
    "----\n",
    "\n",
    "It is also possible to operate on cubes with numeric scalars, NumPy arrays and even cube coordinates.\n",
    "\n",
    "<div class=\"alert alert-block alert-warning\">\n",
    "    <b><font color='brown'>Exercise: </font></b>\n",
    "    <p>Can you multiply the 'e1' air temperature cube by its own latitude coordinate ?<br>\n",
    "    What are the units of the result ?</p>\n",
    "</div>"
   ]
  },
  {
   "cell_type": "code",
   "execution_count": null,
   "metadata": {},
   "outputs": [],
   "source": [
    "#\n",
    "# edit space for user code\n",
    "#"
   ]
  },
  {
   "cell_type": "code",
   "execution_count": null,
   "metadata": {},
   "outputs": [],
   "source": [
    "# SAMPLE SOLUTION\n",
    "# %load solutions/iris_exercise_6.1b"
   ]
  },
  {
   "cell_type": "markdown",
   "metadata": {},
   "source": [
    "----\n",
    "\n",
    "Although a cube's units can be freely set to any valid unit, the calculation of result units and compatibility checking is built into the arithmetic operations.\n",
    "\n",
    "For example, let's create two new cubes, one with units of \"feet\" and one with units of \"days\", and divide them :"
   ]
  },
  {
   "cell_type": "code",
   "execution_count": null,
   "metadata": {},
   "outputs": [],
   "source": [
    "six_feet = iris.cube.Cube(6.0, units='feet')\n",
    "twelve_days = iris.cube.Cube(12.0, units='days')\n",
    "print(six_feet / twelve_days)"
   ]
  },
  {
   "cell_type": "markdown",
   "metadata": {},
   "source": [
    "<div class=\"alert alert-block alert-warning\">\n",
    "    <b><font color='brown'>Exercise: </font></b>\n",
    "    <p>What do you predict will result from adding together the 'six_feet' and 'twelve_days' cubes ?</p>\n",
    "</div>"
   ]
  },
  {
   "cell_type": "code",
   "execution_count": null,
   "metadata": {},
   "outputs": [],
   "source": [
    "#\n",
    "# edit space for user code\n",
    "#"
   ]
  },
  {
   "cell_type": "code",
   "execution_count": null,
   "metadata": {},
   "outputs": [],
   "source": [
    "# SAMPLE SOLUTION\n",
    "# %load solutions/iris_exercise_6.1c"
   ]
  },
  {
   "cell_type": "markdown",
   "metadata": {},
   "source": [
    "----\n",
    "\n",
    "Note that you can update the cube's data and metadata directly, for instance by assigning to `cube.data`, `cube.standard_name` or `cube.units`.  When you do this, though, you need to be careful that the metadata is still an accurate description.  By changing data explicitly you are basically stating that the result is correct."
   ]
  },
  {
   "cell_type": "markdown",
   "metadata": {},
   "source": [
    "<div class=\"alert alert-block alert-warning\">\n",
    "    <b><font color='brown'>Exercise: </font></b>\n",
    "    <p> First <b><font face=\"courier\" color=\"black\">rename()</font></b> the \"six_feet\" cube to \n",
    "        <b><font face=\"courier\" color=\"black\">'depth'</font></b> \n",
    "        (which is a valid standard name).\n",
    "    <br>What happens if you then rename it to \n",
    "        <b><font face=\"courier\" color=\"black\">'potential_temperature'</font></b> ?\n",
    "    <br>What is the meaning of the resulting data cube ?\n",
    "    <br>What happens if you then set the units of this to a mass (e.g. 'kg' ) ?</p>\n",
    "</div>"
   ]
  },
  {
   "cell_type": "code",
   "execution_count": null,
   "metadata": {},
   "outputs": [],
   "source": [
    "#\n",
    "# edit space for user code\n",
    "#"
   ]
  },
  {
   "cell_type": "code",
   "execution_count": null,
   "metadata": {},
   "outputs": [],
   "source": [
    "# SAMPLE SOLUTION\n",
    "# %load solutions/iris_exercise_6.1d"
   ]
  },
  {
   "cell_type": "markdown",
   "metadata": {},
   "source": [
    "----\n",
    "\n",
    "Another function of cube arithmetic is to support 'broadcasting', in the numpy sense :  operations between data with different shapes.\n",
    "\n",
    "In fact we already saw this above, with `product = e1 * e1.coord('latitude')`.\n",
    "\n",
    "Broadcasting is simpler in Iris than in numpy, because the dimensions are \"lined up\" by matching their coordinates, rather than depending on the ordering of dimensions.\n",
    "\n",
    "<div class=\"alert alert-block alert-warning\">\n",
    "    <b><font color='brown'>Exercise: </font></b>\n",
    "    <p>In the above example,\n",
    "        <b><font face=courier color=\"black\">product = e1 * e1.coord('latitude')</font></b>, \n",
    "        the data array content comes from multiplying <font face=courier color=\"black\">e1<b>.data</b></font> \n",
    "        times <font face=courier color=\"black\">e1.coord('latitude')<b>.points</b></font>.\n",
    "    <br>What happens if you simply multiply those two arrays ? Are the values the same ?</p>\n",
    "</div>"
   ]
  },
  {
   "cell_type": "code",
   "execution_count": null,
   "metadata": {},
   "outputs": [],
   "source": [
    "#\n",
    "# edit space for user code\n",
    "#"
   ]
  },
  {
   "cell_type": "code",
   "execution_count": null,
   "metadata": {},
   "outputs": [],
   "source": [
    "# SAMPLE SOLUTION\n",
    "# %load solutions/iris_exercise_6.1e"
   ]
  },
  {
   "cell_type": "markdown",
   "metadata": {},
   "source": [
    "An even simpler example of broadcasting is doing arithmetic between a cube and a scalar value.\n",
    "\n",
    "<div class=\"alert alert-block alert-warning\">\n",
    "    <b><font color='brown'>Exercise: </font></b>\n",
    "    <p>What happens if you add the scalar value <b><font face='courier' color='black'>5.2</font></b> to the <b><font face='courier' color='black'>e1</font></b> cube ?\n",
    "    <br>What is the meaning of the result ?</p>\n",
    "</div>"
   ]
  },
  {
   "cell_type": "code",
   "execution_count": null,
   "metadata": {},
   "outputs": [],
   "source": [
    "#\n",
    "# edit space for user code\n",
    "#"
   ]
  },
  {
   "cell_type": "code",
   "execution_count": null,
   "metadata": {},
   "outputs": [],
   "source": [
    "# SAMPLE SOLUTION\n",
    "# %load solutions/iris_exercise_6.1f"
   ]
  },
  {
   "cell_type": "markdown",
   "metadata": {},
   "source": [
    "If the scalar is just a value, like this one, then it is assumed to have the same units as the cube.\n",
    "\n",
    "However, a scalar _cube_ or _coordinate_ has its own units, which take part in the calculation,\n",
    "as seen above in the \"feet per day\" calculation."
   ]
  },
  {
   "cell_type": "markdown",
   "metadata": {},
   "source": [
    "## 6.2 Cube aggregation and statistics<a id='agg_and_stats'></a>\n",
    "\n",
    "Many standard univariate aggregations exist in Iris. Aggregations allow one or more dimensions of a cube to be statistically collapsed for the purposes of statistical analysis of the cube's data. Iris uses the term 'aggregators' to refer to the statistical operations that can be used for aggregation.\n",
    "\n",
    "A list of aggregators is available at https://scitools-iris.readthedocs.io/en/stable/generated/api/iris/analysis.html."
   ]
  },
  {
   "cell_type": "code",
   "execution_count": null,
   "metadata": {},
   "outputs": [],
   "source": [
    "fname = iris.sample_data_path('uk_hires.pp')\n",
    "cube = iris.load_cube(fname, 'air_potential_temperature')\n",
    "print(cube.summary(True))"
   ]
  },
  {
   "cell_type": "markdown",
   "metadata": {},
   "source": [
    "To take the vertical mean of this cube:"
   ]
  },
  {
   "cell_type": "code",
   "execution_count": null,
   "metadata": {},
   "outputs": [],
   "source": [
    "print(cube.collapsed('model_level_number', iris.analysis.MEAN))"
   ]
  },
  {
   "cell_type": "markdown",
   "metadata": {},
   "source": [
    "NOTE: the printout shows that the result has a cell method of \"mean: model_level_number\".  Cell methods are a [CF metadata convention](http://cfconventions.org/Data/cf-conventions/cf-conventions-1.7/cf-conventions.html#cell-methods) which records that data are the results of statistical operations.\n",
    "\n",
    "----\n",
    "\n",
    "<div class=\"alert alert-block alert-warning\">\n",
    "    <b><font color='brown'>Exercise: </font></b>\n",
    "    <p>How can you calculate all-time minimum temperatures for this data, and what is the form of the result ?</p>\n",
    "</div>"
   ]
  },
  {
   "cell_type": "code",
   "execution_count": null,
   "metadata": {},
   "outputs": [],
   "source": [
    "#\n",
    "# edit space for user code\n",
    "#"
   ]
  },
  {
   "cell_type": "code",
   "execution_count": null,
   "metadata": {},
   "outputs": [],
   "source": [
    "# SAMPLE SOLUTION\n",
    "# %load solutions/iris_exercise_6.2a"
   ]
  },
  {
   "cell_type": "markdown",
   "metadata": {},
   "source": [
    "----\n",
    "\n",
    "In addition to \"collapse\", other types of statistical reductions are also possible.  These also use aggregators to define the statistic.  See the following documentation areas :\n",
    "\n",
    " * [Cube.collapsed](https://scitools-iris.readthedocs.io/en/stable/generated/api/iris/cube.html#iris.cube.Cube.collapsed), as discussed above.\n",
    " * [Cube.rolling_window](https://scitools-iris.readthedocs.io/en/stable/generated/api/iris/cube.html#iris.cube.Cube.rolling_window).\n",
    " * [Cube.aggregated_by](https://scitools-iris.readthedocs.io/en/stable/generated/api/iris/cube.html#iris.cube.Cube.aggregated_by), used with the [coord_categorisation module](https://scitools-iris.readthedocs.io/en/stable/generated/api/iris/coord_categorisation.html).  \n",
    "This provides calculations of a \"group-by-and-reduce\" pattern  -- these are explained later in section 7, \"Advanced Concepts\"."
   ]
  },
  {
   "cell_type": "markdown",
   "metadata": {},
   "source": [
    "## 6.3 : Section Review Exercise<a id='exercise'></a>\n",
    "\n",
    "Let's apply all that we've learned about data processing and visualisation in Iris. We will perform data processing and visualisation to compare two possible climate futures scenarios, called the A1B scenario and the E1 scenario."
   ]
  },
  {
   "cell_type": "markdown",
   "metadata": {},
   "source": [
    "#### 1\\. Load data\n",
    "Load as cubes the datasets found at `iris.sample_data_path('E1_north_america.nc')` and `iris.sample_data_path('A1B_north_america.nc')`. Print a contents summary of each cube."
   ]
  },
  {
   "cell_type": "code",
   "execution_count": null,
   "metadata": {},
   "outputs": [],
   "source": [
    "# user code ..."
   ]
  },
  {
   "cell_type": "code",
   "execution_count": null,
   "metadata": {},
   "outputs": [],
   "source": [
    "# SAMPLE SOLUTION\n",
    "# %load solutions/iris_exercise_6.3a"
   ]
  },
  {
   "cell_type": "markdown",
   "metadata": {},
   "source": [
    "----\n",
    "\n",
    "#### 2\\. Calculate the difference between scenarios for a given year\n",
    "\n",
    "Produce cubes covering only the year 2099, from both scenarios.\n",
    "Calculate the temperature difference between them."
   ]
  },
  {
   "cell_type": "code",
   "execution_count": null,
   "metadata": {},
   "outputs": [],
   "source": [
    "# user code ..."
   ]
  },
  {
   "cell_type": "code",
   "execution_count": null,
   "metadata": {},
   "outputs": [],
   "source": [
    "# SAMPLE SOLUTION\n",
    "# %load solutions/iris_exercise_6.3b"
   ]
  },
  {
   "cell_type": "markdown",
   "metadata": {},
   "source": [
    "----\n",
    "\n",
    "#### 3\\. Plot E1, A1B and difference side by side\n",
    "\n",
    "Plot the data in a single figure with three maps, side-by-side in one row :\n",
    "\n",
    " * the air temperature in the E1 scenario for the year 2099, \n",
    " * the air temperature in the A1B scenario for the year 2099, and\n",
    " * the difference between the two scenarios.\n",
    "\n",
    "Think about the most appropriate plot functions, and the matplotlib colormap(s) to use for each plot.\n",
    "\n",
    "Hint: the different matplotlib colormaps can be seen at https://matplotlib.org/1.5.3/examples/color/colormaps_reference.html. "
   ]
  },
  {
   "cell_type": "code",
   "execution_count": null,
   "metadata": {},
   "outputs": [],
   "source": [
    "# user code ..."
   ]
  },
  {
   "cell_type": "code",
   "execution_count": null,
   "metadata": {},
   "outputs": [],
   "source": [
    "# SAMPLE SOLUTION\n",
    "# %load solutions/iris_exercise_6.3c"
   ]
  },
  {
   "cell_type": "markdown",
   "metadata": {},
   "source": [
    "----\n",
    "\n",
    "#### 4. Produce time sequences of regional average air temperatures\n",
    "\n",
    "Extract data for latitudes in a band of 25 to 30 degrees, and reduce it to a single average value at each time.\n",
    "This gives a 1-dimensional time sequence for each scenario. Calculate the model difference between these two."
   ]
  },
  {
   "cell_type": "code",
   "execution_count": null,
   "metadata": {},
   "outputs": [],
   "source": [
    "# user code ..."
   ]
  },
  {
   "cell_type": "code",
   "execution_count": null,
   "metadata": {},
   "outputs": [],
   "source": [
    "# SAMPLE SOLUTION\n",
    "# %load solutions/iris_exercise_6.3d"
   ]
  },
  {
   "cell_type": "markdown",
   "metadata": {},
   "source": [
    "----\n",
    "\n",
    "#### 5\\. Draw comparison line plots\n",
    "\n",
    "Make a single plot with the data from the two absolute temperature cubes you produced in part 4. Make sure you label the lines you plot.  Also plot the difference \"e1 - a1b\" for comparison."
   ]
  },
  {
   "cell_type": "code",
   "execution_count": null,
   "metadata": {},
   "outputs": [],
   "source": [
    "# user code ..."
   ]
  },
  {
   "cell_type": "code",
   "execution_count": null,
   "metadata": {},
   "outputs": [],
   "source": [
    "# SAMPLE SOLUTION\n",
    "# %load solutions/iris_exercise_6.3e"
   ]
  },
  {
   "cell_type": "markdown",
   "metadata": {},
   "source": [
    "----"
   ]
  },
  {
   "cell_type": "markdown",
   "metadata": {},
   "source": [
    "## 6.4 Section Summary: Data processing<a id='summary'></a>\n",
    "\n",
    "In this section we learnt:\n",
    "* cubes can be combined with arithmetic operators like addition, as for numpy arrays.  Broadcasting also works.\n",
    "* coordinates can also be used in cube arithmetic. \n",
    "* operators are provided to perform statistical aggregations of cube data.\n",
    "* statistics can be calculated over selected dimensions, identified by coordinates.\n"
   ]
  }
 ],
 "metadata": {
  "kernelspec": {
   "display_name": "Python 3",
   "language": "python",
   "name": "python3"
  },
  "language_info": {
   "codemirror_mode": {
    "name": "ipython",
    "version": 3
   },
   "file_extension": ".py",
   "mimetype": "text/x-python",
   "name": "python",
   "nbconvert_exporter": "python",
   "pygments_lexer": "ipython3",
   "version": "3.6.6"
  }
 },
 "nbformat": 4,
 "nbformat_minor": 2
}
