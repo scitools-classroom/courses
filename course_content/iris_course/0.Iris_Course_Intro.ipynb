{
 "cells": [
  {
   "cell_type": "markdown",
   "metadata": {},
   "source": [
    "### An Introduction to Iris"
   ]
  },
  {
   "cell_type": "markdown",
   "metadata": {},
   "source": [
    "## Course Intro\n",
    "\n",
    "The aim of this course is to introduce Iris and its main features and functionality, with a focus on how these relate to data analysis.\n",
    "\n",
    "This course is intended as a beginners course, and requires a basic knowledge of NumPy, matplotlib and Cartopy.\n",
    "\n",
    "The course will cover:\n",
    "1. [The Iris Cube](1.The_Iris_Cube.ipynb)\n",
    "1. [Loading and Saving Data](2.Loading_and_Saving.ipynb)\n",
    "1. [Subcube Extraction](3.Subcube_Extraction.ipynb)\n",
    "1. [Joining Cubes Together](4.Joining_Cubes_Together.ipynb)\n",
    "1. [Plotting](5.Cube_Plotting.ipynb)\n",
    "1. [Data Processing](6.Data_Processing.ipynb)\n",
    "1. [Advanced Concepts](7.Advanced_Concepts.ipynb)\n",
    "1. [Final Exercise](8.Final_Exercise.ipynb)"
   ]
  },
  {
   "cell_type": "code",
   "execution_count": null,
   "metadata": {},
   "outputs": [],
   "source": [
    "import iris\n",
    "print(iris.__version__)"
   ]
  }
 ],
 "metadata": {
  "kernelspec": {
   "display_name": "Python 3",
   "language": "python",
   "name": "python3"
  },
  "language_info": {
   "codemirror_mode": {
    "name": "ipython",
    "version": 3
   },
   "file_extension": ".py",
   "mimetype": "text/x-python",
   "name": "python",
   "nbconvert_exporter": "python",
   "pygments_lexer": "ipython3",
   "version": "3.6.6"
  }
 },
 "nbformat": 4,
 "nbformat_minor": 2
}
