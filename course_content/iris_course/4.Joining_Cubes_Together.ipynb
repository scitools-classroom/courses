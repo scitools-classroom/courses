{
 "cells": [
  {
   "cell_type": "code",
   "execution_count": null,
   "metadata": {},
   "outputs": [],
   "source": [
    "%matplotlib inline"
   ]
  },
  {
   "cell_type": "markdown",
   "metadata": {},
   "source": [
    "## Iris introduction course\n",
    "# 4. Joining Cubes Together\n",
    "\n",
    "**Learning outcome**: by the end of this section, you will be able to apply Iris functionality to combine multiple Iris cubes into a new larger cube.\n",
    "\n",
    "**Duration:** 30 minutes\n",
    "\n",
    "**Overview:**<br>\n",
    "4.1 [Merge](#merge)<br>\n",
    "4.2 [Concatenate](#concatenate)<br>\n",
    "4.3 [Exercise](#exercise)<br>\n",
    "4.4 [Summary of the Section](#summary)"
   ]
  },
  {
   "cell_type": "markdown",
   "metadata": {},
   "source": [
    "## Setup"
   ]
  },
  {
   "cell_type": "code",
   "execution_count": null,
   "metadata": {},
   "outputs": [],
   "source": [
    "import iris\n",
    "import numpy as np"
   ]
  },
  {
   "cell_type": "markdown",
   "metadata": {},
   "source": [
    "----\n",
    "\n",
    "## 4.1 Merge<a id='merge'></a>\n",
    "\n",
    "When Iris loads data it tries to reduce the number of cubes returned by collecting together multiple fields with\n",
    "shared metadata into a single multidimensional cube. In Iris, this is known as merging.\n",
    "\n",
    "In order to merge two cubes, they must be identical in everything but a scalar dimension, which goes on to become a new data dimension.\n",
    "\n",
    "The diagram below shows how three 2D cubes, which have the same x and y coordinates but different z coordinates, are merged together to create a single 3D cube.\n",
    "\n",
    "\n",
    "![](images/merge.png)\n",
    "\n",
    "The ``iris.load_raw`` function can be used as a diagnostic tool to load the individual \"fields\" that Iris identifies in a given set of filenames before any merge takes place.\n",
    "\n",
    "Let's compare the behaviour of `iris.load_raw` and the behaviour of the general purpose loading function, `iris.load`\n",
    "\n",
    "First, we load in a file using `iris.load`:"
   ]
  },
  {
   "cell_type": "code",
   "execution_count": null,
   "metadata": {},
   "outputs": [],
   "source": [
    "fname = iris.sample_data_path('GloSea4', 'ensemble_008.pp')\n",
    "cubes = iris.load(fname)\n",
    "\n",
    "print(cubes)"
   ]
  },
  {
   "cell_type": "markdown",
   "metadata": {},
   "source": [
    "As you can see `iris.load` returns a CubeList containing a single 3D cube.\n",
    "\n",
    "Now let's try loading in the file using `iris.load_raw`:"
   ]
  },
  {
   "cell_type": "code",
   "execution_count": null,
   "metadata": {},
   "outputs": [],
   "source": [
    "fname = iris.sample_data_path('GloSea4', 'ensemble_008.pp')\n",
    "raw_cubes = iris.load_raw(fname)\n",
    "\n",
    "print(raw_cubes)"
   ]
  },
  {
   "cell_type": "markdown",
   "metadata": {},
   "source": [
    "This time, iris has returned six 2D cubes. \n",
    "\n",
    "PP files usually contain multiple 2D fields. `iris.load_raw` has returned a 2D cube for each of these fields, whereas `iris.load` has merged the cubes together then returned the resulting 3D cube.\n",
    "\n",
    "When we look in detail at the raw 2D cubes, we find that they are identical in every coordinate except for the scalar forecast_period and time coordinates:"
   ]
  },
  {
   "cell_type": "code",
   "execution_count": null,
   "metadata": {},
   "outputs": [],
   "source": [
    "print(raw_cubes[0])\n",
    "print('--' * 40)\n",
    "print(raw_cubes[1])"
   ]
  },
  {
   "cell_type": "markdown",
   "metadata": {},
   "source": [
    "To merge a CubeList, we can use the ``merge`` or ``merge_cube`` methods. \n",
    "\n",
    "The `merge` method will try to merge together the cubes in the CubeList in order to return a CubeList of as few cubes as possible.\n",
    "\n",
    "The `merge_cube` method will do the same as `merge` but will return a single Cube. If the initial CubeList cannot be merged into a single Cube, `merge_cube` will raise an error, giving a helpful message explaining why the cubes cannot be merged.\n",
    "\n",
    "Let's merge the raw 2D cubes we previously loaded in:"
   ]
  },
  {
   "cell_type": "code",
   "execution_count": null,
   "metadata": {},
   "outputs": [],
   "source": [
    "merged_cubelist = raw_cubes.merge()\n",
    "print(merged_cubelist)"
   ]
  },
  {
   "cell_type": "markdown",
   "metadata": {},
   "source": [
    "`merge` has returned a cubelist of a single 3D cube."
   ]
  },
  {
   "cell_type": "code",
   "execution_count": null,
   "metadata": {},
   "outputs": [],
   "source": [
    "merged_cube = merged_cubelist[0]\n",
    "print(merged_cube)"
   ]
  },
  {
   "cell_type": "markdown",
   "metadata": {},
   "source": [
    "<div class=\"alert alert-block alert-warning\">\n",
    "    <b><font color='brown'>Exercise: </font></b>\n",
    "    <p>Try merging <b><font face=\"courier\" color=\"black\">raw_cubes</font></b> using  the <b><font face=\"courier\" color=\"black\">merge_cube</font></b> method.</p>\n",
    "</div>"
   ]
  },
  {
   "cell_type": "code",
   "execution_count": null,
   "metadata": {},
   "outputs": [],
   "source": [
    "#\n",
    "# edit space for user code ...\n",
    "#"
   ]
  },
  {
   "cell_type": "markdown",
   "metadata": {},
   "source": [
    "When we look in more detail at our merged cube, we can see that the time coordinate has become a new dimension, as well as gaining another forecast_period auxiliary coordinate:"
   ]
  },
  {
   "cell_type": "code",
   "execution_count": null,
   "metadata": {},
   "outputs": [],
   "source": [
    "print(merged_cube.coord('time'))\n",
    "print(merged_cube.coord('forecast_period'))"
   ]
  },
  {
   "cell_type": "markdown",
   "metadata": {},
   "source": [
    "----\n",
    "\n",
    "### Identifying Merge Problems\n",
    "\n",
    "In order to avoid the Iris merge functionality making inappropriate assumptions about the data, merge is strict with regards to the uniformity of the incoming cubes.\n",
    "\n",
    "For example, if we load the fields from two ensemble members from the GloSea4 model sample data, we see we have 12 fields before any merge takes place:"
   ]
  },
  {
   "cell_type": "code",
   "execution_count": null,
   "metadata": {},
   "outputs": [],
   "source": [
    "fname = iris.sample_data_path('GloSea4', 'ensemble_00[34].pp')\n",
    "cubes = iris.load_raw(fname, 'surface_temperature')\n",
    "print(len(cubes))"
   ]
  },
  {
   "cell_type": "markdown",
   "metadata": {},
   "source": [
    "If we try to merge these 12 cubes we get 2 cubes rather than one:"
   ]
  },
  {
   "cell_type": "code",
   "execution_count": null,
   "metadata": {},
   "outputs": [],
   "source": [
    "incomplete_cubes = cubes.merge()\n",
    "print(incomplete_cubes)"
   ]
  },
  {
   "cell_type": "markdown",
   "metadata": {},
   "source": [
    "When we look in more detail at these two cubes, what is different between the two? (Hint: One value changes, another is completely missing)"
   ]
  },
  {
   "cell_type": "code",
   "execution_count": null,
   "metadata": {},
   "outputs": [],
   "source": [
    "print(incomplete_cubes[0])\n",
    "print('--' * 40)\n",
    "print(incomplete_cubes[1])"
   ]
  },
  {
   "cell_type": "markdown",
   "metadata": {},
   "source": [
    "As mentioned earlier, if `merge_cube` cannot merge the given CubeList to return a single Cube, it will raise a helpful error message identifying the cause of the failiure."
   ]
  },
  {
   "cell_type": "markdown",
   "metadata": {},
   "source": [
    "<div class=\"alert alert-block alert-warning\">\n",
    "    <b><font color=\"brown\">Exercise: </font></b><p>Try merging the loaded <b><font face=\"courier\" color=\"black\">cubes</font></b> using <b><font face=\"courier\" color=\"black\">merge_cube</font></b> rather than <b><font face=\"courier\" color=\"black\">merge</font></b>.</p>\n",
    "</div>"
   ]
  },
  {
   "cell_type": "code",
   "execution_count": null,
   "metadata": {},
   "outputs": [],
   "source": [
    "#\n",
    "# edit space for user code ...\n",
    "#"
   ]
  },
  {
   "cell_type": "markdown",
   "metadata": {},
   "source": [
    "By inspecting the cubes themselves or using the error message raised when using `merge_cube` we can see that some cubes are missing the `realization` coordinate.\n",
    "\n",
    "By adding the missing coordinate, we can trigger a merge of the 12 cubes into a single cube, as expected. Make sure both the name and units of the coordinates match the respective coordinate, so that Iris knows they're the same and can be merged together:"
   ]
  },
  {
   "cell_type": "code",
   "execution_count": null,
   "metadata": {},
   "outputs": [],
   "source": [
    "for cube in cubes:\n",
    "    if not cube.coords('realization'):\n",
    "        cube.add_aux_coord(iris.coords.DimCoord(np.int32(3),\n",
    "                                                'realization', units ='1'))\n",
    "\n",
    "merged_cube = cubes.merge_cube()\n",
    "print(merged_cube)"
   ]
  },
  {
   "cell_type": "markdown",
   "metadata": {},
   "source": [
    "## 4.2 Concatenate<a id='concatenate'></a>\n",
    "\n",
    "We have seen that merge combines a list of cubes with a common scalar coordinate to produce a single cube with a new dimension created from these scalar values.\n",
    "\n",
    "But what happens if you try to combine cubes along a common dimension.\n",
    "\n",
    "Let's create a CubeList with two cubes that have been indexed along the time dimension of the original cube."
   ]
  },
  {
   "cell_type": "code",
   "execution_count": null,
   "metadata": {},
   "outputs": [],
   "source": [
    "fname = iris.sample_data_path('A1B_north_america.nc')\n",
    "cube = iris.load_cube(fname)\n",
    "\n",
    "cube_1 = cube[:10]\n",
    "cube_2 = cube[10:20]\n",
    "cubes = iris.cube.CubeList([cube_1, cube_2])\n",
    "print(cubes)"
   ]
  },
  {
   "cell_type": "markdown",
   "metadata": {},
   "source": [
    "These cubes should be able to be joined together; after all, they have both come from the same original cube!\n",
    "\n",
    "However, `merge` returns two cubes, suggesting that these two cubes cannot be merged:"
   ]
  },
  {
   "cell_type": "code",
   "execution_count": null,
   "metadata": {},
   "outputs": [],
   "source": [
    "print(cubes.merge())"
   ]
  },
  {
   "cell_type": "markdown",
   "metadata": {},
   "source": [
    "Merge cannot be used to combine common non-scalar coordinates. Instead we must use concatenate.\n",
    "\n",
    "Concatenate joins together (\"concatenates\") common non-scalar coordinates to produce a single cube with the common dimension extended.\n",
    "\n",
    "In the below diagram, we see how three 3D cubes are concatenated together to produce a 3D cube with an extended `t` dimension.\n",
    "\n",
    "![](images/concat.png)\n",
    "\n",
    "To concatenate a CubeList, we can use the ``concatenate`` or ``concatenate_cube`` methods. \n",
    "\n",
    "Similar to merging, `concatenate` will return a CubeList of as few cubes as possible, whereas `concatenate_cube` will attempt to return a cube, raising an error with a helpful message where this is not possible.\n",
    "\n",
    "If we apply `concatenate` to our cubelist, we will see that it returns a CubeList with a single Cube:"
   ]
  },
  {
   "cell_type": "code",
   "execution_count": null,
   "metadata": {},
   "outputs": [],
   "source": [
    "print(cubes.concatenate())"
   ]
  },
  {
   "cell_type": "markdown",
   "metadata": {},
   "source": [
    "<div class=\"alert alert-block alert-warning\">\n",
    "    <b><font color='brown'>Exercise: </font></b>\n",
    "    <p>Try concatenating <b><font face=\"courier\" color=\"black\">cubes</font></b> using  the <b><font face=\"courier\" color=\"black\">concatenate_cube</font></b> method.\n",
    "</div>"
   ]
  },
  {
   "cell_type": "code",
   "execution_count": null,
   "metadata": {},
   "outputs": [],
   "source": [
    "#\n",
    "# edit space for user code ...\n",
    "#"
   ]
  },
  {
   "cell_type": "markdown",
   "metadata": {},
   "source": [
    "## 4.3 Section Review Exercise<a id='exercise'></a>\n",
    "\n",
    "The following exercise is designed to give you experience of solving issues that prevent a merge or concatenate from taking place."
   ]
  },
  {
   "cell_type": "markdown",
   "metadata": {},
   "source": [
    "#### Part 1\n",
    "Identify and resolve the issue preventing the ``air_potential_temperature`` cubes from the ``resources/merge_exercise.1.*.nc`` files from being joined together into a single cube."
   ]
  },
  {
   "cell_type": "markdown",
   "metadata": {},
   "source": [
    "a) Use `iris.load_raw` to load in the `air_potential_temperature` cubes from the files `'resources/merge_exercise.1.*.nc'`. Store the cubes in a variable called `raw_cubes`.\n",
    "\n",
    "_Hint:_ Constraints can be given to the `load_raw` function as you would with the other load functions."
   ]
  },
  {
   "cell_type": "code",
   "execution_count": null,
   "metadata": {},
   "outputs": [],
   "source": [
    "# EDIT for user code ..."
   ]
  },
  {
   "cell_type": "code",
   "execution_count": null,
   "metadata": {},
   "outputs": [],
   "source": [
    "# SAMPLE SOLUTION :  Un-comment and execute the following to see a possible solution ...\n",
    "# %load solutions/iris_exercise_4.3.1a"
   ]
  },
  {
   "cell_type": "markdown",
   "metadata": {},
   "source": [
    "b) Try merging the loaded cubes into a single cube. Why does this raise an error?"
   ]
  },
  {
   "cell_type": "code",
   "execution_count": null,
   "metadata": {},
   "outputs": [],
   "source": [
    "# user code ..."
   ]
  },
  {
   "cell_type": "code",
   "execution_count": null,
   "metadata": {},
   "outputs": [],
   "source": [
    "# SAMPLE SOLUTION\n",
    "# %load solutions/iris_exercise_4.3.1b"
   ]
  },
  {
   "cell_type": "markdown",
   "metadata": {},
   "source": [
    "c) Fix the cubes such that they can be merged into a single cube. \n",
    "\n",
    "_Hint:_ You can use `del` to remove an item from a dictionary."
   ]
  },
  {
   "cell_type": "code",
   "execution_count": null,
   "metadata": {},
   "outputs": [],
   "source": [
    "# user code ..."
   ]
  },
  {
   "cell_type": "code",
   "execution_count": null,
   "metadata": {},
   "outputs": [],
   "source": [
    "# SAMPLE SOLUTION\n",
    "# %load solutions/iris_exercise_4.3.1c"
   ]
  },
  {
   "cell_type": "markdown",
   "metadata": {},
   "source": [
    "#### Part 2\n",
    "Identify and resolve the issue preventing the ``air_potential_temperature`` cubes from the ``resources/merge_exercise.5.*.nc`` files from being joined together into a single cube."
   ]
  },
  {
   "cell_type": "markdown",
   "metadata": {},
   "source": [
    "a) Use `iris.load_raw` to load in the `air_potential_temperature` cubes from the files `'resources/merge_exercise.5.*.nc'`. Store the cubes in a variable called `raw_cubes`."
   ]
  },
  {
   "cell_type": "code",
   "execution_count": null,
   "metadata": {},
   "outputs": [],
   "source": [
    "# user code ..."
   ]
  },
  {
   "cell_type": "code",
   "execution_count": null,
   "metadata": {},
   "outputs": [],
   "source": [
    "# SAMPLE SOLUTION\n",
    "# %load solutions/iris_exercise_4.3.2a"
   ]
  },
  {
   "cell_type": "markdown",
   "metadata": {},
   "source": [
    "b) Join the cubes together into a single cube. Should these cubes be merged or concatenated?"
   ]
  },
  {
   "cell_type": "code",
   "execution_count": null,
   "metadata": {},
   "outputs": [],
   "source": [
    "# user code ..."
   ]
  },
  {
   "cell_type": "code",
   "execution_count": null,
   "metadata": {},
   "outputs": [],
   "source": [
    "# SAMPLE SOLUTION\n",
    "# %load solutions/iris_exercise_4.3.2b"
   ]
  },
  {
   "cell_type": "markdown",
   "metadata": {},
   "source": [
    "## 4.4 Section Summary: Joining Cubes Together<a id='summary'></a>\n",
    "\n",
    "In this section we learnt:\n",
    "* Merging and Concatenating can be used to join cubes into a larger combined dataset\n",
    "* Merging combines cubes along a dimension to produce a cube with an extra data dimension\n",
    "* Concatenating produces a cube with the same dimensionality as the input cubes\n"
   ]
  }
 ],
 "metadata": {
  "kernelspec": {
   "display_name": "Python 3 (ipykernel)",
   "language": "python",
   "name": "python3"
  },
  "language_info": {
   "codemirror_mode": {
    "name": "ipython",
    "version": 3
   },
   "file_extension": ".py",
   "mimetype": "text/x-python",
   "name": "python",
   "nbconvert_exporter": "python",
   "pygments_lexer": "ipython3",
   "version": "3.9.12"
  }
 },
 "nbformat": 4,
 "nbformat_minor": 2
}
