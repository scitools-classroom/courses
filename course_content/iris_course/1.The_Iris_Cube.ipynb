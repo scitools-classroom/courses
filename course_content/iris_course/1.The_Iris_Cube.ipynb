{
 "cells": [
  {
   "cell_type": "code",
   "execution_count": null,
   "metadata": {},
   "outputs": [],
   "source": [
    "%matplotlib inline"
   ]
  },
  {
   "cell_type": "markdown",
   "metadata": {},
   "source": [
    "## Iris introduction course\n",
    "# 1. The Iris Cube\n",
    "\n",
    "**Learning Outcome**: by the end of this section, you will be able to explain the capabilities and functionality of Iris Cubes and Coordinates.\n",
    "\n",
    "**Duration:** 1 hour\n",
    "\n",
    "**Overview:**<br>\n",
    "1.1 [Introduction to the Iris Cube](#intro_to_iris_cube)<br>\n",
    "1.2 [Working with a Cube](#working_with_a_cube)<br>\n",
    "1.3 [Cube Attributes](#cube_attributes)<br>\n",
    "1.4 [Coordinates](#coordinates)<br>\n",
    "1.5 [Exercise](#exercise)<br>\n",
    "1.6 [Summary of the Section](#summary)"
   ]
  },
  {
   "cell_type": "code",
   "execution_count": null,
   "metadata": {},
   "outputs": [],
   "source": [
    "import iris"
   ]
  },
  {
   "cell_type": "markdown",
   "metadata": {},
   "source": [
    "----"
   ]
  },
  {
   "cell_type": "markdown",
   "metadata": {},
   "source": [
    "## 1.1 Introduction to the Iris Cube<a id='intro_to_iris_cube'></a>"
   ]
  },
  {
   "cell_type": "markdown",
   "metadata": {},
   "source": [
    "The top level object in Iris is called a Cube. A Cube contains data and metadata about a single phenomenon and is an implementation of the data model interpreted from the *Climate and Forecast (CF) Metadata Conventions*.\n",
    "\n",
    "Each cube has:\n",
    "\n",
    " * A data array (typically a NumPy array).\n",
    " * A \"name\", preferably a CF \"standard name\" to describe the phenomenon that the cube represents.\n",
    " * A collection of coordinates to describe each of the dimensions of the data array. These coordinates are split into two types:\n",
    "    * Dimension Coordinates are numeric, monotonic and represent a single dimension of the data array. There may be only one Dimension Coordinate per data dimension.\n",
    "    * Auxilliary Coordinates can be of any type, including discrete values such as strings, and may represent more than one data dimension.\n",
    "\n",
    "A fuller explanation is available in the [Iris user guide](https://scitools-iris.readthedocs.io/en/stable/userguide/iris_cubes.html)."
   ]
  },
  {
   "cell_type": "markdown",
   "metadata": {},
   "source": [
    "Let's take a simple example to demonstrate the Cube concept.\n",
    "\n",
    "Suppose we have a ``(3, 2, 4)`` NumPy array:\n",
    "\n",
    "![](images/multi_array.png)\n"
   ]
  },
  {
   "cell_type": "markdown",
   "metadata": {},
   "source": [
    "Where dimensions 0, 1, and 2 have lengths 3, 2 and 4 respectively.\n",
    "\n",
    "The Iris Cube to represent this data may consist of:\n",
    "\n",
    " * a standard name of \"air_temperature\" and units of \"kelvin\"\n",
    "\n",
    " * a data array of shape ``(3, 2, 4)``\n",
    "\n",
    " * a coordinate, mapping to dimension 0, consisting of:\n",
    "     * a standard name of \"height\" and units of \"meters\"\n",
    "     * an array of length 3 representing the 3 height points\n",
    "     \n",
    " * a coordinate, mapping to dimension 1, consisting of:\n",
    "     * a standard name of \"latitude\" and units of \"degrees\"\n",
    "     * an array of length 2 representing the 2 latitude points\n",
    "     * a coordinate system such that the latitude points could be fully located on the globe\n",
    "     \n",
    " * a coordinate, mapping to dimension 2, consisting of:\n",
    "     * a standard name of \"longitude\" and units of \"degrees\"\n",
    "     * an array of length 4 representing the 4 longitude points\n",
    "     * a coordinate system such that the longitude points could be fully located on the globe"
   ]
  },
  {
   "cell_type": "markdown",
   "metadata": {},
   "source": [
    "Pictorially the Cube has taken on more information than a simple array:\n",
    "\n",
    "![](images/multi_array_to_cube.png)"
   ]
  },
  {
   "cell_type": "markdown",
   "metadata": {},
   "source": [
    "-----"
   ]
  },
  {
   "cell_type": "markdown",
   "metadata": {},
   "source": [
    "## 1.2 Working with a Cube<a id='working_with_a_cube'></a>\n",
    "\n",
    "To load in a Cube from a file, we make use of the [iris.load](https://scitools-iris.readthedocs.io/en/stable/generated/api/iris.html#iris.load) function."
   ]
  },
  {
   "cell_type": "markdown",
   "metadata": {},
   "source": [
    "<div class=\"alert alert-block alert-warning\">\n",
    "    <b><font color='brown'>Exercise: </font></b>\n",
    "    <p>Take a look at the above link to see how `iris.load` is called.</p>\n",
    "</div>"
   ]
  },
  {
   "cell_type": "markdown",
   "metadata": {},
   "source": [
    "For the purpose of this course, we will be using the sample data provided with Iris. We use the utility function [iris.sample_data_path](https://scitools-iris.readthedocs.io/en/stable/generated/api/iris.html#iris.sample_data_path) which returns the _filepath_ of where the sample data is installed. We assign the output filepath returned by the `iris.sample_data_path` function to a variable called `fname`."
   ]
  },
  {
   "cell_type": "code",
   "execution_count": null,
   "metadata": {},
   "outputs": [],
   "source": [
    "fname = iris.sample_data_path('space_weather.nc')"
   ]
  },
  {
   "cell_type": "markdown",
   "metadata": {},
   "source": [
    "<div class=\"alert alert-block alert-warning\">\n",
    "    <b><font color='brown'>Exercise: </font></b>\n",
    "    <p>Try printing <b><font style='font-family: courier'>fname</font></b>, to see where the sample data is installed on your system.<p/>\n",
    "</div>"
   ]
  },
  {
   "cell_type": "code",
   "execution_count": null,
   "metadata": {},
   "outputs": [],
   "source": [
    "#\n",
    "# edit space for user code ...\n",
    "#"
   ]
  },
  {
   "cell_type": "markdown",
   "metadata": {},
   "source": [
    "We load in the filepath `fname` with `iris.load`."
   ]
  },
  {
   "cell_type": "code",
   "execution_count": null,
   "metadata": {},
   "outputs": [],
   "source": [
    "cubes = iris.load(fname)\n",
    "print(cubes)"
   ]
  },
  {
   "cell_type": "markdown",
   "metadata": {},
   "source": [
    "`iris.load` returns an `iris.cube.CubeList` of all the cubes found in the file. From the above print out, we can see that we have loaded two cubes from the file, one representing the \"total electron content\" and the other representing \"electron density\". We can infer further detail about the returned cubes from this printout, such as the units, dimensions and shape."
   ]
  },
  {
   "cell_type": "markdown",
   "metadata": {},
   "source": [
    "<div class=\"alert alert-block alert-warning\">\n",
    "    <b><font color='brown'>Exercise: </font></b>\n",
    "    <p>What are the dimensions of the \"total electron content\" cube?\n",
    "    <br>What are the units of the \"electron_density\" cube?</p>\n",
    "</div>"
   ]
  },
  {
   "cell_type": "code",
   "execution_count": null,
   "metadata": {},
   "outputs": [],
   "source": [
    "#\n",
    "# edit space for user notes ...\n",
    "#"
   ]
  },
  {
   "cell_type": "markdown",
   "metadata": {},
   "source": [
    "<b><font color=\"brown\">SAMPLE SOLUTION:</font></b>  \n",
    "Un-comment and execute the following, to view a possible solution, and some code.  \n",
    "Then run it ..."
   ]
  },
  {
   "cell_type": "code",
   "execution_count": null,
   "metadata": {},
   "outputs": [],
   "source": [
    "# SAMPLE SOLUTION\n",
    "# %load solutions/iris_exercise_1.2a"
   ]
  },
  {
   "cell_type": "markdown",
   "metadata": {},
   "source": [
    "----\n",
    "\n",
    "To see more detail about a specific cube, we can print out a single cube from the cubelist. We can select the second cube in the cubelist with indexing, and then print out what it returns."
   ]
  },
  {
   "cell_type": "code",
   "execution_count": null,
   "metadata": {},
   "outputs": [],
   "source": [
    "air_pot_temp = cubes[1]\n",
    "print(air_pot_temp)"
   ]
  },
  {
   "cell_type": "markdown",
   "metadata": {},
   "source": [
    "As before, we have an overview of the cube's dimensions as well as the cube's name and units. We also have further detail on the cube's metadata, such as the Dimension Coordinates, Auxiliary Coordinates and Attributes. \n",
    "\n",
    "In the printout, the dimension marker 'x' shows which dimensions apply to each coordinate. For example, we can see that the `latitude` Auxiliary Coordinate varies along the `grid_latitude` _and_ `grid_longitude` dimensions.\n",
    "\n",
    "Whilst the printout of a cube gives a nice overview of the cube's metadata, we can dig deeper by inspecting the attributes of our cube object, as covered in the next section."
   ]
  },
  {
   "cell_type": "markdown",
   "metadata": {},
   "source": [
    "-----"
   ]
  },
  {
   "cell_type": "markdown",
   "metadata": {},
   "source": [
    "## 1.3 Cube Attributes<a id='cube_attributes'></a>\n",
    "We load in a different file (using the `iris.sample_data_path` utility function, as before, to give us the path of the file) and index out the first cube from the cubelist that is returned."
   ]
  },
  {
   "cell_type": "code",
   "execution_count": null,
   "metadata": {},
   "outputs": [],
   "source": [
    "fname = iris.sample_data_path('A1B_north_america.nc')\n",
    "cubes = iris.load(fname)\n",
    "cube = cubes[0]\n",
    "print(cube)"
   ]
  },
  {
   "cell_type": "markdown",
   "metadata": {},
   "source": [
    "We can see that we have loaded and selected an `air_temperature` cube with `time`, `latitude` and `longitude` dimensions and the associated Dimension coordinates. We also have a `forecast_period` Auxiliary coordinate which maps the time dimension. Our cube also has two scalar coordinates: `forecast_reference_time` and `height`, and a cell method of `mean: time (6 hour)` which means that the cube contains 6-hourly mean air temperatures."
   ]
  },
  {
   "cell_type": "markdown",
   "metadata": {},
   "source": [
    "To access the values of air temperature in the cube we use the ``data`` property. This is either a NumPy array or, in some cases, a NumPy masked array. It is very important to note that for most of the supported filetypes in Iris, the cube's data isn't actually loaded until you request it via this property (either directly or indirectly). After you've accessed the data once, it is stored on the cube and thus won't be loaded from disk again.\n",
    "\n",
    "To find the shape of a cube's data it is possible to call ``cube.data.shape`` or ``cube.data.ndim``, but this will trigger any unloaded data to be loaded. Therefore ``shape`` and ``ndim`` are properties available directly on the cube that do not unnecessarily load data."
   ]
  },
  {
   "cell_type": "code",
   "execution_count": null,
   "metadata": {},
   "outputs": [],
   "source": [
    "print(cube.shape)\n",
    "print(cube.ndim)\n",
    "print(type(cube.data))"
   ]
  },
  {
   "cell_type": "markdown",
   "metadata": {},
   "source": [
    "<div class=\"alert alert-block alert-warning\">\n",
    "    <b><font color=\"brown\">Exercise: </font></b>\n",
    "    <p>From the above output we can see that cube.data is a masked numpy array.\n",
    "    <br>How would you find out the fill value of this masked array?</p>\n",
    "</div>"
   ]
  },
  {
   "cell_type": "code",
   "execution_count": null,
   "metadata": {},
   "outputs": [],
   "source": [
    "#\n",
    "# edit space for user code ...\n",
    "#"
   ]
  },
  {
   "cell_type": "code",
   "execution_count": null,
   "metadata": {},
   "outputs": [],
   "source": [
    "# SAMPLE SOLUTION\n",
    "# %load solutions/iris_exercise_1.3a"
   ]
  },
  {
   "cell_type": "markdown",
   "metadata": {},
   "source": [
    "The ``standard_name``, ``long_name`` and to an extent ``var_name`` are all attributes to describe the phenomenon that the cube represents. The ``name()`` method is a convenience that looks at the name attributes in the order they are listed above, returning the first non-empty string. \n"
   ]
  },
  {
   "cell_type": "code",
   "execution_count": null,
   "metadata": {},
   "outputs": [],
   "source": [
    "print(cube.standard_name)\n",
    "print(cube.long_name)\n",
    "print(cube.var_name)\n",
    "print(cube.name())"
   ]
  },
  {
   "cell_type": "markdown",
   "metadata": {},
   "source": [
    "`standard_name` is restricted to be a CF standard name (see the [CF standard name table](http://cfconventions.org/standard-names.html)).  \n",
    "\n",
    "If there is not a suitable CF standard name, `cube.standard name` is set to `None` and the `long_name` is used instead.  \n",
    "`long_name` is less restrictive and can be set to be any string.  \n",
    "\n",
    "`var_name` is the name of a netCDF file variable in the input file, or to be used in output.  This is normally unimportant, as CF data is identified by  'standard_name' instead :  (Note: although they are often the same, some standard names are not valid as netCDF variable names)."
   ]
  },
  {
   "cell_type": "markdown",
   "metadata": {},
   "source": [
    "To rename a cube, it is possible to set the attributes manually, but it is generally easier to use the ``rename()`` method.\n",
    "\n",
    "Below we rename the cube to a string that we know is not a valid CF standard name."
   ]
  },
  {
   "cell_type": "code",
   "execution_count": null,
   "metadata": {},
   "outputs": [],
   "source": [
    "cube.rename(\"A name that isn't a valid CF standard name\")"
   ]
  },
  {
   "cell_type": "code",
   "execution_count": null,
   "metadata": {},
   "outputs": [],
   "source": [
    "print(cube.standard_name)\n",
    "print(cube.long_name)\n",
    "print(cube.var_name)\n",
    "print(cube.name())"
   ]
  },
  {
   "cell_type": "markdown",
   "metadata": {},
   "source": [
    "When renaming a cube, Iris will initally try to set `cube.standard_name`.  \n",
    "If the name is not a standard name, `cube.long_name` is set instead."
   ]
  },
  {
   "cell_type": "markdown",
   "metadata": {},
   "source": [
    "<div class=\"alert alert-block alert-warning\">\n",
    "    <b><font color=\"brown\">Exercise: </font></b>\n",
    "    <p>Take a look at the <a href=http://cfconventions.org/standard-names.html> CF standard name table</a> and try renaming the cube to an accepted name.</p>\n",
    "</div>"
   ]
  },
  {
   "cell_type": "code",
   "execution_count": null,
   "metadata": {},
   "outputs": [],
   "source": [
    "#\n",
    "# edit space for user code ...\n",
    "#"
   ]
  },
  {
   "cell_type": "code",
   "execution_count": null,
   "metadata": {},
   "outputs": [],
   "source": [
    "# SAMPLE SOLUTION\n",
    "# %load solutions/iris_exercise_1.3b"
   ]
  },
  {
   "cell_type": "markdown",
   "metadata": {},
   "source": [
    "----"
   ]
  },
  {
   "cell_type": "markdown",
   "metadata": {},
   "source": [
    "The ``units`` attribute on a cube tells us the units of the numbers held in the data array."
   ]
  },
  {
   "cell_type": "code",
   "execution_count": null,
   "metadata": {},
   "outputs": [],
   "source": [
    "print(cube.units)\n",
    "print(cube.data.max())"
   ]
  },
  {
   "cell_type": "markdown",
   "metadata": {},
   "source": [
    "We can convert the cube to another unit using the ``convert_units`` method, which will automatically update the data array."
   ]
  },
  {
   "cell_type": "code",
   "execution_count": null,
   "metadata": {},
   "outputs": [],
   "source": [
    "cube.convert_units('Celsius')\n",
    "print(cube.units)\n",
    "print(cube.data.max())"
   ]
  },
  {
   "cell_type": "markdown",
   "metadata": {},
   "source": [
    "A cube also has a dictionary for extra general purpose attributes, which can be accessed with the ``cube.attributes`` attribute:"
   ]
  },
  {
   "cell_type": "code",
   "execution_count": null,
   "metadata": {},
   "outputs": [],
   "source": [
    "print(cube.attributes)"
   ]
  },
  {
   "cell_type": "markdown",
   "metadata": {},
   "source": [
    "<div class=\"alert alert-block alert-warning\">\n",
    "    <b><font color=\"brown\">Exercise: </font></b>\n",
    "    <p>Update the `cube.attributes` dictionary with a new entry.\n",
    "    <br>For example <b><font face=\"courier\" color=\"black\">{'comment':'Original data had units of degrees celsius'}</font></b>.</p>\n",
    "</div>"
   ]
  },
  {
   "cell_type": "code",
   "execution_count": null,
   "metadata": {},
   "outputs": [],
   "source": [
    "#\n",
    "# edit space for user code ...\n",
    "#"
   ]
  },
  {
   "cell_type": "code",
   "execution_count": null,
   "metadata": {},
   "outputs": [],
   "source": [
    "# SAMPLE SOLUTION\n",
    "# %load  solutions/iris_exercise_1.3c"
   ]
  },
  {
   "cell_type": "markdown",
   "metadata": {},
   "source": [
    "----"
   ]
  },
  {
   "cell_type": "markdown",
   "metadata": {},
   "source": [
    "## 1.4 Coordinates<a id='coordinates'></a>\n",
    "\n",
    "As we've seen, cubes need coordinate information to help us describe the underlying phenomenon. Typically a cube's coordinates are accessed with the ``coords`` or ``coord`` methods. The latter *must* return exactly one coordinate for the given parameter filters, where the former returns a list of matching coordinates, possibly of length 0.\n",
    "\n",
    "For example, to access the time coordinate, and print the first 4 times:"
   ]
  },
  {
   "cell_type": "code",
   "execution_count": null,
   "metadata": {},
   "outputs": [],
   "source": [
    "time = cube.coord('time')\n",
    "print(time[:4])"
   ]
  },
  {
   "cell_type": "markdown",
   "metadata": {},
   "source": [
    "The coordinate interface is very similar to that of a cube. The attributes that exist on both cubes and coordinates are: ``standard_name``, ``long_name``, ``var_name``, ``units``, ``attributes`` and ``shape``. Similarly, the ``name()``, ``rename()`` and ``convert_units()`` methods also exist on a coordinate.\n",
    "\n",
    "----\n",
    "\n",
    "A coordinate does not have ``data``, instead it has ``points`` and ``bounds`` (``bounds`` may be ``None``). In Iris, time coordinates are currently represented as \"a number since an epoch\":"
   ]
  },
  {
   "cell_type": "code",
   "execution_count": null,
   "metadata": {},
   "outputs": [],
   "source": [
    "print(repr(time.units))\n",
    "print(time.points[:4])\n",
    "print(time.bounds[:4])"
   ]
  },
  {
   "cell_type": "markdown",
   "metadata": {},
   "source": [
    "These numbers can be converted to datetime objects with the unit's ``num2date`` method. Dates can be converted back again with the ``date2num`` method:"
   ]
  },
  {
   "cell_type": "code",
   "execution_count": null,
   "metadata": {},
   "outputs": [],
   "source": [
    "import datetime\n",
    "\n",
    "print(time.units.num2date(time.points[:4]))\n",
    "print(time.units.date2num(datetime.datetime(1970, 2, 1)))"
   ]
  },
  {
   "cell_type": "markdown",
   "metadata": {},
   "source": [
    "Another important attribute on a coordinate is its coordinate system. Coordinate systems may be ``None`` for trivial coordinates, but particularly for spatial coordinates, they may be complex definitions of things such as the projection, ellipse and/or datum."
   ]
  },
  {
   "cell_type": "code",
   "execution_count": null,
   "metadata": {},
   "outputs": [],
   "source": [
    "lat = cube.coord('latitude')\n",
    "print(lat.coord_system)"
   ]
  },
  {
   "cell_type": "markdown",
   "metadata": {},
   "source": [
    "In this case, the latitude's coordinate system is a simple geographic latitude on a spherical globe of radius 6371229 (meters)."
   ]
  },
  {
   "cell_type": "markdown",
   "metadata": {},
   "source": [
    "----"
   ]
  },
  {
   "cell_type": "markdown",
   "metadata": {},
   "source": [
    "## 1.5 Section Review Exercise<a id='exercise'></a>\n",
    "\n",
    "1\\. Load the file in ``iris.sample_data_path('atlantic_profiles.nc')`` and print the cube list. Store these cubes in a variable called `cubes`."
   ]
  },
  {
   "cell_type": "code",
   "execution_count": null,
   "metadata": {},
   "outputs": [],
   "source": [
    "# EDIT for user code ..."
   ]
  },
  {
   "cell_type": "code",
   "execution_count": null,
   "metadata": {},
   "outputs": [],
   "source": [
    "# SAMPLE SOLUTION :  Un-comment and execute the following to see a possible solution ...\n",
    "\n",
    "# %load solutions/iris_exercise_1.5a"
   ]
  },
  {
   "cell_type": "markdown",
   "metadata": {},
   "source": [
    "2\\. Loop through each of the cubes (e.g. ``for cube in cubes``) and print the standard name of each."
   ]
  },
  {
   "cell_type": "code",
   "execution_count": null,
   "metadata": {},
   "outputs": [],
   "source": [
    "# user code ..."
   ]
  },
  {
   "cell_type": "code",
   "execution_count": null,
   "metadata": {},
   "outputs": [],
   "source": [
    "# SAMPLE SOLUTION\n",
    "# %load solutions/iris_exercise_1.5b"
   ]
  },
  {
   "cell_type": "markdown",
   "metadata": {},
   "source": [
    "3\\. Index `cubes` to retrieve the `sea_water_potential_temperature` cube. \n",
    "Note: that indexing to extract single cubes is useful for EDA, but it is better practice to use constraints (See [3. Cube Control and Subsetting.ipynb](#3.Cube_Control_and_Subsetting.ipynb) for more information)."
   ]
  },
  {
   "cell_type": "code",
   "execution_count": null,
   "metadata": {},
   "outputs": [],
   "source": [
    "# user code ..."
   ]
  },
  {
   "cell_type": "code",
   "execution_count": null,
   "metadata": {},
   "outputs": [],
   "source": [
    "# SAMPLE SOLUTION\n",
    "# %load solutions/iris_exercise_1.5c"
   ]
  },
  {
   "cell_type": "markdown",
   "metadata": {},
   "source": [
    "4\\. Get hold of the `latitude` coordinate on the `sea_water_potential_temperature` cube. Identify whether this coordinate has bounds. Print the minimum and maximum latitude points in the cube."
   ]
  },
  {
   "cell_type": "code",
   "execution_count": null,
   "metadata": {},
   "outputs": [],
   "source": [
    "# user code ..."
   ]
  },
  {
   "cell_type": "code",
   "execution_count": null,
   "metadata": {},
   "outputs": [],
   "source": [
    "# SAMPLE SOLUTION\n",
    "# %load solutions/iris_exercise_1.5d"
   ]
  },
  {
   "cell_type": "markdown",
   "metadata": {},
   "source": [
    "----"
   ]
  },
  {
   "cell_type": "markdown",
   "metadata": {},
   "source": [
    "## 1.6 Summary of Section: The iris Cube<a id='summary'></a>\n",
    "\n",
    "In this section we learnt:\n",
    "* An iris cube, which contains data and metadata, is based on the cf data model, containing dimension and auxiliary coordinates.\n",
    "* Printing out a cube gives an overview of its metadata. We can get more information on the cube by inspecting its attributes (e.g. `cube.standard_name`, `cube.units()`)\n",
    "* A coordinate has a similar interface to a cube, but a coordinate has points and bounds, where a cube has data."
   ]
  }
 ],
 "metadata": {
  "kernelspec": {
   "display_name": "Python 3",
   "language": "python",
   "name": "python3"
  },
  "language_info": {
   "codemirror_mode": {
    "name": "ipython",
    "version": 3
   },
   "file_extension": ".py",
   "mimetype": "text/x-python",
   "name": "python",
   "nbconvert_exporter": "python",
   "pygments_lexer": "ipython3",
   "version": "3.6.6"
  }
 },
 "nbformat": 4,
 "nbformat_minor": 2
}
