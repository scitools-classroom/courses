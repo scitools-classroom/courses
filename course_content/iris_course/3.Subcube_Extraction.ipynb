{
 "cells": [
  {
   "cell_type": "code",
   "execution_count": null,
   "metadata": {},
   "outputs": [],
   "source": [
    "%matplotlib inline"
   ]
  },
  {
   "cell_type": "markdown",
   "metadata": {},
   "source": [
    "## Iris introduction course\n",
    "# 3. Subcube Extraction\n",
    "\n",
    "**Learning outcome**: by the end of this section, you will be able to use various Iris facilities to extract sub-sections of a dataset.\n",
    "\n",
    "**Duration:** 1 hour\n",
    "\n",
    "**Overview:**<br>\n",
    "3.1 [Indexing](#indexing)<br>\n",
    "3.2 [Constraints and Extraction](#constrain_extract)<br>\n",
    "3.3 [Iterating Over a Cube](#iteration)<br>\n",
    "3.4 [Exercise](#exercise)<br>\n",
    "3.5 [Summary of the Section](#summary)"
   ]
  },
  {
   "cell_type": "markdown",
   "metadata": {},
   "source": [
    "## Setup"
   ]
  },
  {
   "cell_type": "code",
   "execution_count": null,
   "metadata": {},
   "outputs": [],
   "source": [
    "import iris"
   ]
  },
  {
   "cell_type": "markdown",
   "metadata": {},
   "source": [
    "----\n",
    "\n",
    "## 3.1 Indexing<a id='indexing'></a>\n",
    "\n",
    "Cubes can be indexed in a similar manner to that of NumPy arrays:"
   ]
  },
  {
   "cell_type": "code",
   "execution_count": null,
   "metadata": {},
   "outputs": [],
   "source": [
    "fname = iris.sample_data_path('uk_hires.pp')\n",
    "cube = iris.load_cube(fname, 'air_potential_temperature')\n",
    "print(cube.summary(shorten=True))"
   ]
  },
  {
   "cell_type": "code",
   "execution_count": null,
   "metadata": {},
   "outputs": [],
   "source": [
    "subcube = cube[..., ::2, 15:35, :10]\n",
    "subcube.summary(shorten=True)"
   ]
  },
  {
   "cell_type": "markdown",
   "metadata": {},
   "source": [
    "The index operation above selects:\n",
    "* The first 10 elements from the last dimension, which is grid_longitude\n",
    "* All elements between the 15th and 35th element of the grid_latitude dimension\n",
    "* Every second element from the model_level_number dimension\n",
    "* All elements in the preceding dimensions."
   ]
  },
  {
   "cell_type": "markdown",
   "metadata": {},
   "source": [
    "Note: the result of indexing a cube is *always* a copy and never a *view* on the original data."
   ]
  },
  {
   "cell_type": "markdown",
   "metadata": {},
   "source": [
    "<div class=\"alert alert-block alert-warning\">\n",
    "    <b><font color='brown'>Exercise: </font></b>\n",
    "    <p>Try indexing the subcube from above to select the the first 2 elements from the time dimension.</p>\n",
    "</div>"
   ]
  },
  {
   "cell_type": "code",
   "execution_count": null,
   "metadata": {},
   "outputs": [],
   "source": [
    "#\n",
    "# edit space for user code ...\n",
    "#"
   ]
  },
  {
   "cell_type": "markdown",
   "metadata": {},
   "source": [
    "<b><font color=\"brown\">SAMPLE SOLUTION:</font></b>  \n",
    "Un-comment and execute the following, to view a possible code solution.  \n",
    "Then run it ..."
   ]
  },
  {
   "cell_type": "code",
   "execution_count": null,
   "metadata": {},
   "outputs": [],
   "source": [
    "# SAMPLE SOLUTION\n",
    "# %load solutions/iris_exercise_3.1a"
   ]
  },
  {
   "cell_type": "markdown",
   "metadata": {},
   "source": [
    "----"
   ]
  },
  {
   "cell_type": "markdown",
   "metadata": {},
   "source": [
    "## 3.2 Constraints and Extraction<a id='constrain_extract'></a>\n",
    "\n",
    "We've already seen the basic ``load`` function, which will load in a CubeList of all the cubes that Iris finds in the given files. \n",
    "\n",
    "To control which cubes are actually loaded we can use *constraints*. The simplest constraint is just a string, which filters cubes based on their name.\n",
    "\n",
    "Below, we load in `uk_hires.pp` file from Iris's sample data with a constraint so that only cubes named `air_potential_temperature` are loaded:"
   ]
  },
  {
   "cell_type": "code",
   "execution_count": null,
   "metadata": {},
   "outputs": [],
   "source": [
    "fname = iris.sample_data_path('uk_hires.pp')\n",
    "print(iris.load(fname, 'air_potential_temperature'))"
   ]
  },
  {
   "cell_type": "markdown",
   "metadata": {},
   "source": [
    "Iris's constraints mechanism provides a powerful way to filter a subset of data from a larger collection. We've already seen that constraints can be used at load time to return data of interest from a file, but we can also apply constraints to a single cube, or a CubeList, using their respective ``extract`` methods.\n",
    "\n",
    "Below, we load in the same file as before, this time without supplying any contraint. Then we use the ``extract`` method with the constraint specifying the cube's name."
   ]
  },
  {
   "cell_type": "code",
   "execution_count": null,
   "metadata": {},
   "outputs": [],
   "source": [
    "cubes = iris.load(fname)\n",
    "potential_temperature_cubes = cubes.extract('air_potential_temperature')\n",
    "print(potential_temperature_cubes)"
   ]
  },
  {
   "cell_type": "markdown",
   "metadata": {},
   "source": [
    "The above two examples demonstrate the simplest constraint, namely a string that matches a cube's name, which is conveniently converted into an ``iris.Constraint`` instance wherever needed. \n",
    "\n",
    "However, we could construct this constraint manually and compare with the previous result:"
   ]
  },
  {
   "cell_type": "code",
   "execution_count": null,
   "metadata": {},
   "outputs": [],
   "source": [
    "pot_temperature_constraint = iris.Constraint('air_potential_temperature')\n",
    "\n",
    "pt2_cubes = cubes.extract(pot_temperature_constraint)\n",
    "print(pt2_cubes)\n",
    "print(pt2_cubes == potential_temperature_cubes)"
   ]
  },
  {
   "cell_type": "markdown",
   "metadata": {},
   "source": [
    "So far we have shown constraining at load time and extracting from a CubeList. We can also perform an extract operation on a Cube. \n",
    "\n",
    "As before, we constrain the CubeList to select only cubes named `air_potential_temperature`. We then index out the first cube from the CubeList that is returned. On this cube, we extract model level number 10. \n",
    "The Constraint constructor takes arbitrary keywords to constrain coordinate values."
   ]
  },
  {
   "cell_type": "code",
   "execution_count": null,
   "metadata": {},
   "outputs": [],
   "source": [
    "temp_cubes = cubes.extract('air_potential_temperature')\n",
    "temp_cube = temp_cubes[0]\n",
    "print(temp_cube.extract(iris.Constraint(model_level_number=10)))"
   ]
  },
  {
   "cell_type": "markdown",
   "metadata": {},
   "source": [
    "Note that this now returns a Cube; an extract operation on a CubeList will return a CubeList, an extract operation on a Cube will return a Cube."
   ]
  },
  {
   "cell_type": "markdown",
   "metadata": {},
   "source": [
    "You will notice that the Cube returned no longer has a `model_level_number` dimension, resulting in a 3D cube rather than a 4D cube. `model_level_number` has been demoted from a dimension coordinate to a scalar coordinate."
   ]
  },
  {
   "cell_type": "markdown",
   "metadata": {},
   "source": [
    "<div class=\"alert alert-block alert-warning\">\n",
    "    <b><font color='brown'>Exercise: </font></b><p>Take a look at the documentation for <a href='https://scitools-iris.readthedocs.io/en/stable/generated/api/iris.html#iris.Constraint'>iris.Constraint</a>. How would you modify the above example to select two model level numbers [4,10]?</p>\n",
    "</div>"
   ]
  },
  {
   "cell_type": "code",
   "execution_count": null,
   "metadata": {},
   "outputs": [],
   "source": [
    "#\n",
    "# edit space for user code ...\n",
    "#"
   ]
  },
  {
   "cell_type": "code",
   "execution_count": null,
   "metadata": {},
   "outputs": [],
   "source": [
    "# SAMPLE SOLUTION\n",
    "# %load  solutions/iris_exercise_3.2a"
   ]
  },
  {
   "cell_type": "markdown",
   "metadata": {},
   "source": [
    "As you may have seen in the iris.Constraint documentation, we can also make a Constraint from an arbitrary function that operates on each cell of a coordinate.  This lets you perform more complicated extraction operations."
   ]
  },
  {
   "cell_type": "code",
   "execution_count": null,
   "metadata": {},
   "outputs": [],
   "source": [
    "def less_than_10(cell):\n",
    "    \"\"\"Return True for values that are less than 10.\"\"\"\n",
    "    return cell < 10\n",
    "\n",
    "print(cubes.extract(iris.Constraint('air_potential_temperature',\n",
    "                                    model_level_number=less_than_10)))"
   ]
  },
  {
   "cell_type": "markdown",
   "metadata": {},
   "source": [
    "<div class=\"alert alert-block alert-warning\">\n",
    "    <b><font color='brown'>Exercise: </font></b>\n",
    "    <p>Load in the `air_temperature` cube from the file in <b><font face=\"courier\" color=\"black\">iris.sample_data_path('air_temp.pp')</font></b>.\n",
    "        <br>From this cube, extract data within 30 degrees of the equator.\n",
    "        <br> <i>Hint:</i> Write a function that returns True for values that are in the range [-30,30].</p>\n",
    "</div>"
   ]
  },
  {
   "cell_type": "code",
   "execution_count": null,
   "metadata": {},
   "outputs": [],
   "source": [
    "#\n",
    "# edit space for user code ...\n",
    "#"
   ]
  },
  {
   "cell_type": "code",
   "execution_count": null,
   "metadata": {},
   "outputs": [],
   "source": [
    "# SAMPLE SOLUTION\n",
    "# %load  solutions/iris_exercise_3.2b"
   ]
  },
  {
   "cell_type": "markdown",
   "metadata": {},
   "source": [
    "Combining multiple constraints can be done in a couple of ways. One way involves creating _a single Constraint instance_ with multiple requirements. \n",
    "\n",
    "For example, using our original CubeList, we extract a cube named `air_potential_temperature` with model level number 10."
   ]
  },
  {
   "cell_type": "code",
   "execution_count": null,
   "metadata": {},
   "outputs": [],
   "source": [
    "pot_temperature_constraint = iris.Constraint('air_potential_temperature',\n",
    "                                             model_level_number=10)\n",
    "print(cubes.extract(pot_temperature_constraint))"
   ]
  },
  {
   "cell_type": "markdown",
   "metadata": {},
   "source": [
    "To combine different Constraints we use an `&`.\n",
    "\n",
    "For example, below we extract the data named `air_potential_temperature`, *and* with model level numbers 4 and 10."
   ]
  },
  {
   "cell_type": "code",
   "execution_count": null,
   "metadata": {},
   "outputs": [],
   "source": [
    "print(cubes.extract('air_potential_temperature' & \n",
    "                    iris.Constraint(model_level_number=[4, 10])))"
   ]
  },
  {
   "cell_type": "markdown",
   "metadata": {},
   "source": [
    "----\n",
    "\n",
    "### Time Constraints<a id='time_constraints'></a>\n",
    "\n",
    "It is common to want to build a constraint for time.  \n",
    "This can be achieved by comparing cells containing datetimes\n",
    "\n",
    "There are a few different approaches for producing time constraints in Iris. We will focus here on one approach for constraining on time in Iris. \n",
    "\n",
    "This approach allows us to access individual components of cell datetime objects and run comparisons on those:"
   ]
  },
  {
   "cell_type": "code",
   "execution_count": null,
   "metadata": {},
   "outputs": [],
   "source": [
    "time_constraint = iris.Constraint(time=lambda cell: cell.point.hour == 11)\n",
    "print(temp_cube.extract(time_constraint).summary(True))"
   ]
  },
  {
   "cell_type": "markdown",
   "metadata": {},
   "source": [
    "<div class=\"alert alert-block alert-warning\">\n",
    "    <b><font color='brown'>Exercise: </font></b><p>Try indexing <b><font face=\"courier\" color=\"black\">temp_cube</font></b> to select days that are the 19th of the month.</p>\n",
    "</div>"
   ]
  },
  {
   "cell_type": "code",
   "execution_count": null,
   "metadata": {},
   "outputs": [],
   "source": [
    "#\n",
    "# edit space for user code ...\n",
    "#"
   ]
  },
  {
   "cell_type": "code",
   "execution_count": null,
   "metadata": {},
   "outputs": [],
   "source": [
    "# SAMPLE SOLUTION\n",
    "# %load  solutions/iris_exercise_3.2c"
   ]
  },
  {
   "cell_type": "markdown",
   "metadata": {},
   "source": [
    "----\n",
    "\n",
    "## 3.3 Iterating Over a Cube<a id='iteration'></a>\n",
    "\n",
    "We can loop through subcubes within a larger cube using the cube methods ``slices`` and ``slices_over``.\n",
    "\n",
    "To demonstrate this we start with a cube that we have constrained such that it is named \"air_potential_temperature\" and has data on model level number=1."
   ]
  },
  {
   "cell_type": "code",
   "execution_count": null,
   "metadata": {},
   "outputs": [],
   "source": [
    "fname = iris.sample_data_path('uk_hires.pp')\n",
    "cube = iris.load_cube(fname,\n",
    "                      iris.Constraint('air_potential_temperature',\n",
    "                                      model_level_number=1))\n",
    "print(cube.summary(True))"
   ]
  },
  {
   "cell_type": "markdown",
   "metadata": {},
   "source": [
    "The **``slices``** method returns all the slices of a cube on the dimensions specified by the coordinates passed to the slices method.\n",
    "\n",
    "So in this example, each `grid_latitude` / `grid_longitude` slice of the cube is returned:"
   ]
  },
  {
   "cell_type": "code",
   "execution_count": null,
   "metadata": {},
   "outputs": [],
   "source": [
    "for subcube in cube.slices(['grid_latitude', 'grid_longitude']):\n",
    "    print(subcube.summary(shorten=True))"
   ]
  },
  {
   "cell_type": "markdown",
   "metadata": {},
   "source": [
    "We can use **``slices_over``** to return one subcube for each coordinate value in the specified coordinate. This helps us when trying to retrieve all the slices along a given cube dimension.\n",
    "\n",
    "For example, to slice over the time dimension we would do the following:"
   ]
  },
  {
   "cell_type": "code",
   "execution_count": null,
   "metadata": {},
   "outputs": [],
   "source": [
    "for subcube in cube.slices_over('time'):\n",
    "    print(subcube.summary(shorten=True))"
   ]
  },
  {
   "cell_type": "markdown",
   "metadata": {},
   "source": [
    "Notice how the above two examples returned the same results. Starting with a `time`/`grid_latitude`/`grid_longitude`, to retrieve all the slices over the time dimension, with `slices_over` we specify only the `time` dimension, whereas when using `slices` we specify all the cube's dimensions _except_ the time dimension."
   ]
  },
  {
   "cell_type": "markdown",
   "metadata": {},
   "source": [
    "<div class=\"alert alert-block alert-warning\">\n",
    "    <b><font color='brown'>Exercise: </font></b><p>Load in the `air_potential_temperature` cube from the file in <b><font face=\"courier\" color=\"black\">iris.sample_data_path('uk_hires.pp')</font></b>.\n",
    "    <br> Iterate over this cube such that you print out subcubes of the following dimensionality:\n",
    "    <br><b><font face=\"courier\" color=\"black\">air_potential_temperature / (K)     (time: 3; grid_latitude: 204; grid_longitude: 187)</font></b>\n",
    "    <br>Do this first using <b><font face=\"courier\" color=\"black\">slices</font></b> then again using <b><font face=\"courier\" color=\"black\">slices_over</font></b>.</p>\n",
    "</div>"
   ]
  },
  {
   "cell_type": "code",
   "execution_count": null,
   "metadata": {},
   "outputs": [],
   "source": [
    "#\n",
    "# edit space for user code ...\n",
    "#"
   ]
  },
  {
   "cell_type": "code",
   "execution_count": null,
   "metadata": {},
   "outputs": [],
   "source": [
    "# SAMPLE SOLUTION\n",
    "# %load  solutions/iris_exercise_3.3a"
   ]
  },
  {
   "cell_type": "markdown",
   "metadata": {},
   "source": [
    "----\n",
    "\n",
    "## 3.4 Section Review Exercise <a id='exercise'></a>"
   ]
  },
  {
   "cell_type": "markdown",
   "metadata": {},
   "source": [
    "1\\. Load the `sea_water_potential_temperature` cube from the file in ``iris.sample_data_path('atlantic_profiles.nc')``. Store these cubes in a variable called `cube`."
   ]
  },
  {
   "cell_type": "code",
   "execution_count": null,
   "metadata": {},
   "outputs": [],
   "source": [
    "# EDIT for user code ..."
   ]
  },
  {
   "cell_type": "code",
   "execution_count": null,
   "metadata": {},
   "outputs": [],
   "source": [
    "# SAMPLE SOLUTION :  Un-comment and execute the following to see a possible solution ...\n",
    "\n",
    "# %load solutions/iris_exercise_3.4a"
   ]
  },
  {
   "cell_type": "markdown",
   "metadata": {},
   "source": [
    "2. Extract the data with a `latitude` below -3° Store the result in a new variable."
   ]
  },
  {
   "cell_type": "code",
   "execution_count": null,
   "metadata": {},
   "outputs": [],
   "source": [
    "# user code ..."
   ]
  },
  {
   "cell_type": "code",
   "execution_count": null,
   "metadata": {},
   "outputs": [],
   "source": [
    "# SAMPLE SOLUTION\n",
    "# %load solutions/iris_exercise_3.4b"
   ]
  },
  {
   "cell_type": "markdown",
   "metadata": {},
   "source": [
    "3. Iterate through the first 5 depth levels, printing the mean data value for each subcube slice. "
   ]
  },
  {
   "cell_type": "code",
   "execution_count": null,
   "metadata": {},
   "outputs": [],
   "source": [
    "# user code ..."
   ]
  },
  {
   "cell_type": "code",
   "execution_count": null,
   "metadata": {},
   "outputs": [],
   "source": [
    "# SAMPLE SOLUTION\n",
    "# %load solutions/iris_exercise_3.4c"
   ]
  },
  {
   "cell_type": "markdown",
   "metadata": {},
   "source": [
    "----\n",
    "\n",
    "## 3.5 Section Summary : Subcube Extraction<a id='summary'></a>\n",
    "\n",
    "In this section we learnt:\n",
    "* cubes can be indexed like numpy arrays to produce sub-cubes\n",
    "* 'constraint' objects can be used to load only part of the data\n",
    "* particular methods are used to extract data by dates and times\n",
    "* a cube can be \"sliced up\" along some of its dimensions, looping over all the possible subcube 'slices'.\n"
   ]
  }
 ],
 "metadata": {
  "kernelspec": {
   "display_name": "Python 3",
   "language": "python",
   "name": "python3"
  },
  "language_info": {
   "codemirror_mode": {
    "name": "ipython",
    "version": 3
   },
   "file_extension": ".py",
   "mimetype": "text/x-python",
   "name": "python",
   "nbconvert_exporter": "python",
   "pygments_lexer": "ipython3",
   "version": "3.6.6"
  }
 },
 "nbformat": 4,
 "nbformat_minor": 2
}
